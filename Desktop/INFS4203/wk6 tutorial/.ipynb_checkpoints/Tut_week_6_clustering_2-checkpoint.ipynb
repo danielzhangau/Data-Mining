{
 "cells": [
  {
   "cell_type": "markdown",
   "metadata": {
    "colab_type": "text",
    "id": "HniJ4VX-jZAa"
   },
   "source": [
    "# Data Mining Tutorial Week 6"
   ]
  },
  {
   "cell_type": "markdown",
   "metadata": {},
   "source": [
    "In this tutorial, we will first learn calculating **$L_1$, $L_2$ and $L_\\infty$ distance**, followed by calculating the **SSE** of the k-means result by Python. Then we introduce how to use the well-implemented **DBSCAN** algorithm and **AGNES (AgglomerativeClustering)** algorithm in **scikit-learn**. "
   ]
  },
  {
   "cell_type": "markdown",
   "metadata": {},
   "source": [
    "## Part 1: calculating the $L_1$, $L_2$ and $L_\\infty$ distance"
   ]
  },
  {
   "cell_type": "markdown",
   "metadata": {},
   "source": [
    "In this part, we give two three-dimensional points: (1, 0, 5) and (2, 4, 9) and see how to calculate the $L_1$, $L_2$ and $L_\\infty$ distance.Please refer to https://numpy.org/doc/stable/reference/generated/numpy.linalg.norm.html for more details.\n",
    "\n",
    "Before that, please calculate by hand the 3 distances between these two points. Then we start coding:"
   ]
  },
  {
   "cell_type": "code",
   "execution_count": 1,
   "metadata": {},
   "outputs": [
    {
     "name": "stdout",
     "output_type": "stream",
     "text": [
      "The value of L1 norm is 9.0\n",
      "The value of L2 norm is 5.744562646538029\n",
      "The value of L_infty norm is 4.0\n"
     ]
    }
   ],
   "source": [
    "# importing library\n",
    "import numpy as np\n",
    "\n",
    "# define two points\n",
    "a = np.array([1, 0, 5])\n",
    "b = np.array([2, 4, 9])\n",
    "\n",
    "L1 = np.linalg.norm((a - b), ord=1) #ord = 1 for L1\n",
    "L2 = np.linalg.norm((a - b))        #default value of  ord =2 for L2\n",
    "Linfinity = np.linalg.norm((a - b), np.inf) # L_infty\n",
    "print(\"The value of L1 norm is \" + str(L1))\n",
    "print(\"The value of L2 norm is \" + str(L2))\n",
    "print(\"The value of L_infty norm is \" + str(Linfinity))"
   ]
  },
  {
   "cell_type": "markdown",
   "metadata": {},
   "source": [
    "Is your by-hand calculating correct?"
   ]
  },
  {
   "cell_type": "markdown",
   "metadata": {},
   "source": [
    "## Part 2: Calculating the SSE"
   ]
  },
  {
   "cell_type": "markdown",
   "metadata": {},
   "source": [
    "In this part, we will learn how to calculate the SSE both by hand-written code and well-implemented code. \n",
    "\n",
    "We first load the data in *dummy_data.csv*, which contains 300 two-dimensional points. "
   ]
  },
  {
   "cell_type": "code",
   "execution_count": 2,
   "metadata": {
    "colab": {
     "base_uri": "https://localhost:8080/",
     "height": 87
    },
    "colab_type": "code",
    "id": "kd8OIpoveD2m",
    "outputId": "4c3bc31c-2656-468e-d9a6-1af8a4b55fd9"
   },
   "outputs": [
    {
     "name": "stdout",
     "output_type": "stream",
     "text": [
      "loading successfully\n"
     ]
    }
   ],
   "source": [
    "# import the necessary packages\n",
    "import matplotlib.pyplot as plt\n",
    "import numpy as np\n",
    "import pandas as pd\n",
    "import random\n",
    "from sklearn.preprocessing import StandardScaler\n",
    "from sklearn.cluster import DBSCAN\n",
    "\n",
    "# Load data\n",
    "data_frame = pd.read_csv('dummy_data.csv')\n",
    "# print(data_frame.head(3))\n",
    "\n",
    "X = data_frame[['x', 'y']].values\n",
    "\n",
    "print('loading successfully')"
   ]
  },
  {
   "cell_type": "markdown",
   "metadata": {},
   "source": [
    "We then do k-means on the data."
   ]
  },
  {
   "cell_type": "code",
   "execution_count": 3,
   "metadata": {
    "colab": {
     "base_uri": "https://localhost:8080/",
     "height": 35
    },
    "colab_type": "code",
    "id": "IQfy-RceeJ95",
    "outputId": "23171f04-33e5-4a0f-bfc2-0099545be47c"
   },
   "outputs": [
    {
     "name": "stdout",
     "output_type": "stream",
     "text": [
      "kmeans successfully\n"
     ]
    }
   ],
   "source": [
    "from sklearn.cluster import KMeans\n",
    "\n",
    "kmeans = KMeans(n_clusters=8, random_state= 1) # Set the total number of the cluster, i.e, k,to be 8\n",
    "# ***Note that for running k-means, the first step is to randomly select several data points as the \"initial\" center points. \n",
    "# ***Thus we fix the random_state to be the random seed 1, such that the results can be reproducible. \n",
    "\n",
    "km = kmeans.fit(X) # Compute k-means clustering\n",
    "\n",
    "print('kmeans successfully')"
   ]
  },
  {
   "cell_type": "markdown",
   "metadata": {},
   "source": [
    "Let us recall how to calcualte the SSE and write code to do it."
   ]
  },
  {
   "cell_type": "code",
   "execution_count": 4,
   "metadata": {},
   "outputs": [
    {
     "name": "stdout",
     "output_type": "stream",
     "text": [
      "SSE of the kmeans clustering by hand-written code is, 137.41595888700994\n"
     ]
    }
   ],
   "source": [
    "# Let us calculate the SSE according to the definition\n",
    "y_kmeans = kmeans.predict(X) # get the clustering result\n",
    "centers = kmeans.cluster_centers_ # get the clustering centers\n",
    "\n",
    "label = 0; \n",
    "SSE = 0;\n",
    "for center in centers: # for each cluster center\n",
    "    X_current_cluster = X[y_kmeans==label] # get the data in the cluster\n",
    "    for x in X_current_cluster: # for each data\n",
    "        SSE = SSE + pow(np.linalg.norm((x - center)),2) \n",
    "        # calcualte the square of distance and add to SSE\n",
    "    label=label+1; # update the label for the next cluster\n",
    "\n",
    "print('SSE of the kmeans clustering by hand-written code is, ' + str(SSE))"
   ]
  },
  {
   "cell_type": "markdown",
   "metadata": {},
   "source": [
    "If we refer to https://scikit-learn.org/stable/modules/generated/sklearn.cluster.KMeans.html, we can see the description of the Attribute **inertia_** which is: *sum of squared distances of samples to their closest cluster center*. That is exactly what we want for SSE. Let us use this value to test whether our hand-written code is correct."
   ]
  },
  {
   "cell_type": "code",
   "execution_count": 5,
   "metadata": {},
   "outputs": [
    {
     "name": "stdout",
     "output_type": "stream",
     "text": [
      "SSE of the kmeans clustering by inertia_ is, 137.41595888700994\n"
     ]
    }
   ],
   "source": [
    "SSE_cluster = km.inertia_\n",
    "print('SSE of the kmeans clustering by inertia_ is, ' + str(SSE_cluster))"
   ]
  },
  {
   "cell_type": "markdown",
   "metadata": {},
   "source": [
    "Great! They are equal."
   ]
  },
  {
   "cell_type": "markdown",
   "metadata": {},
   "source": [
    "## Part 3: Hierarchical-based Clustering (AGNES)"
   ]
  },
  {
   "cell_type": "markdown",
   "metadata": {
    "colab_type": "text",
    "id": "HFUHu3RckpIL"
   },
   "source": [
    "In this part, we will learn how to use the well-implemented AGNES algorithm to do hierarchical clusterings. Please refer to https://scikit-learn.org/stable/modules/generated/sklearn.cluster.AgglomerativeClustering.html for details on the **AgglomerativeClustering** algorithm.\n",
    "\n",
    "We then plot the dengrogram by the algorithm **dendrogram**. For details, please refer to https://docs.scipy.org/doc/scipy/reference/generated/scipy.cluster.hierarchy.dendrogram.html#scipy.cluster.hierarchy.dendrogram.\n",
    "\n",
    "As always, we first load the data in *wholesale_customers.csv*:"
   ]
  },
  {
   "cell_type": "code",
   "execution_count": 6,
   "metadata": {
    "colab": {},
    "colab_type": "code",
    "id": "wxzO1Ml3jrBJ"
   },
   "outputs": [
    {
     "data": {
      "text/html": [
       "<div>\n",
       "<style scoped>\n",
       "    .dataframe tbody tr th:only-of-type {\n",
       "        vertical-align: middle;\n",
       "    }\n",
       "\n",
       "    .dataframe tbody tr th {\n",
       "        vertical-align: top;\n",
       "    }\n",
       "\n",
       "    .dataframe thead th {\n",
       "        text-align: right;\n",
       "    }\n",
       "</style>\n",
       "<table border=\"1\" class=\"dataframe\">\n",
       "  <thead>\n",
       "    <tr style=\"text-align: right;\">\n",
       "      <th></th>\n",
       "      <th>Channel</th>\n",
       "      <th>Region</th>\n",
       "      <th>Fresh</th>\n",
       "      <th>Milk</th>\n",
       "      <th>Grocery</th>\n",
       "      <th>Frozen</th>\n",
       "      <th>Detergents_Paper</th>\n",
       "      <th>Delicassen</th>\n",
       "    </tr>\n",
       "  </thead>\n",
       "  <tbody>\n",
       "    <tr>\n",
       "      <th>0</th>\n",
       "      <td>2</td>\n",
       "      <td>3</td>\n",
       "      <td>12669</td>\n",
       "      <td>9656</td>\n",
       "      <td>7561</td>\n",
       "      <td>214</td>\n",
       "      <td>2674</td>\n",
       "      <td>1338</td>\n",
       "    </tr>\n",
       "    <tr>\n",
       "      <th>1</th>\n",
       "      <td>2</td>\n",
       "      <td>3</td>\n",
       "      <td>7057</td>\n",
       "      <td>9810</td>\n",
       "      <td>9568</td>\n",
       "      <td>1762</td>\n",
       "      <td>3293</td>\n",
       "      <td>1776</td>\n",
       "    </tr>\n",
       "    <tr>\n",
       "      <th>2</th>\n",
       "      <td>2</td>\n",
       "      <td>3</td>\n",
       "      <td>6353</td>\n",
       "      <td>8808</td>\n",
       "      <td>7684</td>\n",
       "      <td>2405</td>\n",
       "      <td>3516</td>\n",
       "      <td>7844</td>\n",
       "    </tr>\n",
       "  </tbody>\n",
       "</table>\n",
       "</div>"
      ],
      "text/plain": [
       "   Channel  Region  Fresh  Milk  Grocery  Frozen  Detergents_Paper  Delicassen\n",
       "0        2       3  12669  9656     7561     214              2674        1338\n",
       "1        2       3   7057  9810     9568    1762              3293        1776\n",
       "2        2       3   6353  8808     7684    2405              3516        7844"
      ]
     },
     "execution_count": 6,
     "metadata": {},
     "output_type": "execute_result"
    }
   ],
   "source": [
    "# importing libraries\n",
    "import pandas as pd\n",
    "import numpy as np\n",
    "import matplotlib.pyplot as plt\n",
    "from sklearn.preprocessing import normalize\n",
    "import scipy.cluster.hierarchy as shc\n",
    "from sklearn.cluster import AgglomerativeClustering\n",
    "\n",
    "# loading data\n",
    "data = pd.read_csv('wholesale_customers.csv')\n",
    "\n",
    "# showing the first three lines of the data\n",
    "data.head(3)"
   ]
  },
  {
   "cell_type": "markdown",
   "metadata": {
    "colab_type": "text",
    "id": "inxDyLKO-eKA"
   },
   "source": [
    "Before applying the hierarchical clustering, we would first normalise our data so that the model does not become biased towards variables with high magnitude. To normalize our data, we use the well-implmented algorithm **normalize**. For details, please refer to https://scikit-learn.org/stable/modules/generated/sklearn.preprocessing.normalize.html."
   ]
  },
  {
   "cell_type": "code",
   "execution_count": 7,
   "metadata": {
    "colab": {
     "base_uri": "https://localhost:8080/",
     "height": 202
    },
    "colab_type": "code",
    "id": "MXJZgyH0-ezW",
    "outputId": "e44f6e88-2a6f-4d91-c60a-8b41b94b8401"
   },
   "outputs": [
    {
     "data": {
      "text/html": [
       "<div>\n",
       "<style scoped>\n",
       "    .dataframe tbody tr th:only-of-type {\n",
       "        vertical-align: middle;\n",
       "    }\n",
       "\n",
       "    .dataframe tbody tr th {\n",
       "        vertical-align: top;\n",
       "    }\n",
       "\n",
       "    .dataframe thead th {\n",
       "        text-align: right;\n",
       "    }\n",
       "</style>\n",
       "<table border=\"1\" class=\"dataframe\">\n",
       "  <thead>\n",
       "    <tr style=\"text-align: right;\">\n",
       "      <th></th>\n",
       "      <th>Channel</th>\n",
       "      <th>Region</th>\n",
       "      <th>Fresh</th>\n",
       "      <th>Milk</th>\n",
       "      <th>Grocery</th>\n",
       "      <th>Frozen</th>\n",
       "      <th>Detergents_Paper</th>\n",
       "      <th>Delicassen</th>\n",
       "    </tr>\n",
       "  </thead>\n",
       "  <tbody>\n",
       "    <tr>\n",
       "      <th>0</th>\n",
       "      <td>0.000112</td>\n",
       "      <td>0.000168</td>\n",
       "      <td>0.708333</td>\n",
       "      <td>0.539874</td>\n",
       "      <td>0.422741</td>\n",
       "      <td>0.011965</td>\n",
       "      <td>0.149505</td>\n",
       "      <td>0.074809</td>\n",
       "    </tr>\n",
       "    <tr>\n",
       "      <th>1</th>\n",
       "      <td>0.000125</td>\n",
       "      <td>0.000188</td>\n",
       "      <td>0.442198</td>\n",
       "      <td>0.614704</td>\n",
       "      <td>0.599540</td>\n",
       "      <td>0.110409</td>\n",
       "      <td>0.206342</td>\n",
       "      <td>0.111286</td>\n",
       "    </tr>\n",
       "    <tr>\n",
       "      <th>2</th>\n",
       "      <td>0.000125</td>\n",
       "      <td>0.000187</td>\n",
       "      <td>0.396552</td>\n",
       "      <td>0.549792</td>\n",
       "      <td>0.479632</td>\n",
       "      <td>0.150119</td>\n",
       "      <td>0.219467</td>\n",
       "      <td>0.489619</td>\n",
       "    </tr>\n",
       "  </tbody>\n",
       "</table>\n",
       "</div>"
      ],
      "text/plain": [
       "    Channel    Region     Fresh      Milk   Grocery    Frozen  \\\n",
       "0  0.000112  0.000168  0.708333  0.539874  0.422741  0.011965   \n",
       "1  0.000125  0.000188  0.442198  0.614704  0.599540  0.110409   \n",
       "2  0.000125  0.000187  0.396552  0.549792  0.479632  0.150119   \n",
       "\n",
       "   Detergents_Paper  Delicassen  \n",
       "0          0.149505    0.074809  \n",
       "1          0.206342    0.111286  \n",
       "2          0.219467    0.489619  "
      ]
     },
     "execution_count": 7,
     "metadata": {},
     "output_type": "execute_result"
    }
   ],
   "source": [
    "#normalising data\n",
    "data_scaled = normalize(data)\n",
    "data_scaled = pd.DataFrame(data_scaled, columns=data.columns)\n",
    "\n",
    "# showing the first three lines of the data\n",
    "data_scaled.head(3)"
   ]
  },
  {
   "cell_type": "markdown",
   "metadata": {},
   "source": [
    "## Task 1: Using **AgglomerativeClustering** to do clustering"
   ]
  },
  {
   "cell_type": "markdown",
   "metadata": {
    "colab_type": "text",
    "id": "UsP1u2o9_Zbk"
   },
   "source": [
    "There are some key points to use the **AgglomerativeClustering** method, we need to specify the following parameters:\n",
    "1. The distance function used, which is determined by the attribute **affinity**. We use 'euclidean' distance. Please try 'manhattan' for the $L_1$ distance.\n",
    "2. The way to update the distances between clusters, determined by the attribute **linkage**. We use 'complete'. Please try 'single' or 'average'.\n",
    "3. The number of clusters you need in the final output, determined by the attribute **n_clusters**. We set it as 3. \n",
    "\n",
    "Please refer to https://scikit-learn.org/stable/modules/generated/sklearn.cluster.AgglomerativeClustering.html for details. "
   ]
  },
  {
   "cell_type": "code",
   "execution_count": 8,
   "metadata": {
    "colab": {
     "base_uri": "https://localhost:8080/",
     "height": 364
    },
    "colab_type": "code",
    "id": "2PSO7auKwgYd",
    "outputId": "cd10bfd8-45a0-47b2-aac5-b1be0a057b46"
   },
   "outputs": [
    {
     "name": "stdout",
     "output_type": "stream",
     "text": [
      "[1 0 1 1 1 1 1 1 1 0 0 1 1 1 1 1 0 1 1 1 1 1 1 1 1 1 1 1 0 1 1 0 1 1 0 0 1\n",
      " 1 0 1 1 1 0 0 1 0 0 0 1 0 1 0 1 0 1 1 0 0 1 0 1 0 1 0 1 0 0 1 0 1 1 1 2 1\n",
      " 1 1 2 0 1 0 1 0 1 1 1 0 0 1 2 1 1 1 0 2 0 0 0 2 2 1 1 0 0 1 1 1 0 0 0 0 1\n",
      " 0 1 1 1 1 1 1 1 1 1 1 1 1 1 1 1 1 0 1 1 1 1 1 1 1 0 0 1 1 1 1 1 1 1 1 1 1\n",
      " 1 1 1 0 1 0 1 0 0 1 0 0 0 1 1 0 0 1 0 0 1 1 0 0 0 0 0 0 1 1 1 0 1 1 0 1 0\n",
      " 1 2 0 0 0 1 1 1 0 1 1 1 0 1 1 0 0 1 0 0 0 1 0 0 0 1 0 1 0 0 0 0 1 0 1 1 0\n",
      " 2 2 1 1 1 1 1 1 1 0 1 0 1 0 1 1 1 1 1 1 1 1 0 0 1 1 1 1 1 0 1 1 0 1 1 1 1\n",
      " 1 1 1 1 0 0 0 0 1 0 1 2 0 0 1 0 0 1 2 1 1 1 1 1 1 1 1 1 1 1 1 1 1 0 0 1 1\n",
      " 1 1 0 0 1 0 0 0 0 0 0 1 1 0 2 1 0 1 1 0 1 0 1 0 0 1 1 1 1 2 1 0 1 1 1 0 1\n",
      " 0 1 1 1 1 2 2 0 0 0 0 1 0 0 1 1 0 1 0 0 0 1 0 1 0 0 0 1 1 1 1 1 0 1 1 1 1\n",
      " 1 1 1 1 1 1 0 1 1 0 1 1 1 2 0 1 0 1 1 1 2 1 0 1 1 1 0 1 1 1 1 1 1 1 1 1 1\n",
      " 0 1 1 1 1 0 2 1 1 0 0 0 1 0 1 1 1 1 2 1 1 0 1 0 2 1 0 1 1 1 0 1 1]\n"
     ]
    }
   ],
   "source": [
    "# Here, we can use linkage = 'single' for min hierarchical clustering and 'average' for avg hierarchical clustering\n",
    "# the data will be clustered into 3 clusters, with Euclidean distance, and complete linkage:\n",
    "cluster = AgglomerativeClustering(n_clusters=3, affinity='euclidean', linkage='complete')  \n",
    "\n",
    "#  The clusteriong result of data\n",
    "y_predict = cluster.fit_predict(data_scaled)\n",
    "print(y_predict)"
   ]
  },
  {
   "cell_type": "markdown",
   "metadata": {
    "colab_type": "text",
    "id": "sUv0fTwRwnRm"
   },
   "source": [
    "We can see the values of 0, 1, and 2, assign the data points to three clusters. They tell us which cluster each datapoint belongs to. \n",
    "\n",
    "**Exercise:** running hierarchical clustering for the data 'spiral.csv' in Week 5 Tutorial.Plot the result and see which linkage method can successfully cluster the data. "
   ]
  },
  {
   "cell_type": "markdown",
   "metadata": {},
   "source": [
    "## Task 2: Using **dendrogram** to do clustering and plot the dengrogram"
   ]
  },
  {
   "cell_type": "markdown",
   "metadata": {},
   "source": [
    "Let us now try to visualise the data by dendrogram using the well-implemented algorithm **dendrogram**. For details, please refer to https://scikit-learn.org/stable/auto_examples/cluster/plot_agglomerative_dendrogram.html#sphx-glr-auto-examples-cluster-plot-agglomerative-dendrogram-py.\n",
    "\n",
    "To specify the parameters of distance used and linkage function, we use the method *linkage*, with details: https://docs.scipy.org/doc/scipy/reference/generated/scipy.cluster.hierarchy.linkage.html"
   ]
  },
  {
   "cell_type": "code",
   "execution_count": 9,
   "metadata": {
    "colab": {
     "base_uri": "https://localhost:8080/",
     "height": 444
    },
    "colab_type": "code",
    "id": "Jpx2JI9wxo5B",
    "outputId": "9bcfa35f-bb0f-4104-8158-45242540ab35"
   },
   "outputs": [
    {
     "data": {
      "image/png": "[encoded data removed]",
      "text/plain": [
       "<Figure size 720x504 with 1 Axes>"
      ]
     },
     "metadata": {
      "needs_background": "light"
     },
     "output_type": "display_data"
    }
   ],
   "source": [
    "plt.figure(figsize=(10, 7))  \n",
    "plt.title(\"Dendrograms\") \n",
    "\n",
    "# complete linkage and euclidean distance\n",
    "dend_max = shc.dendrogram(shc.linkage(data_scaled, method='complete', metric='euclidean'))\n",
    "\n",
    "# try:\n",
    "#dend_min = shc.dendrogram(shc.linkage(data_scaled, method='single', metric='euclidean'))\n",
    "#dend_avg = shc.dendrogram(shc.linkage(data_scaled, method='average', metric='euclidean'))"
   ]
  },
  {
   "cell_type": "markdown",
   "metadata": {
    "colab_type": "text",
    "id": "kacpwfgXAwyd"
   },
   "source": [
    "The x-axis has all our data points, and the y-axis is the distance between them.If we draw a line on the dendrogram: "
   ]
  },
  {
   "cell_type": "code",
   "execution_count": 10,
   "metadata": {
    "colab": {
     "base_uri": "https://localhost:8080/",
     "height": 461
    },
    "colab_type": "code",
    "id": "ywt8s0bXq04C",
    "outputId": "0f2fd64b-1814-4479-87d0-c373b7e49d72"
   },
   "outputs": [
    {
     "data": {
      "text/plain": [
       "<matplotlib.lines.Line2D at 0x1e4e569c6c8>"
      ]
     },
     "execution_count": 10,
     "metadata": {},
     "output_type": "execute_result"
    },
    {
     "data": {
      "image/png": "[encoded data removed]",
      "text/plain": [
       "<Figure size 720x504 with 1 Axes>"
      ]
     },
     "metadata": {
      "needs_background": "light"
     },
     "output_type": "display_data"
    }
   ],
   "source": [
    "plt.figure(figsize=(10, 7))  \n",
    "plt.title(\"Dendrograms\")  \n",
    "dend_single = shc.dendrogram(shc.linkage(data_scaled, method='complete'))\n",
    "\n",
    "# draw a line with height 1.35\n",
    "plt.axhline(y=1.35, color='r', linestyle='--')"
   ]
  },
  {
   "cell_type": "markdown",
   "metadata": {
    "colab_type": "text",
    "id": "mahWt3pWA77_"
   },
   "source": [
    "The red line in the above dendogram is specified at such a distance that it divides the dendogram into three different clusters.\n",
    "\n",
    "\n"
   ]
  },
  {
   "cell_type": "markdown",
   "metadata": {},
   "source": [
    "## Part 4: Density-based Clustering (DBSCAN)"
   ]
  },
  {
   "cell_type": "markdown",
   "metadata": {
    "colab_type": "text",
    "id": "SnpQcBxzCiHl"
   },
   "source": [
    "In this part,we load the toy data in *dummy_spiral.csv*, normalise its values. We then apply the well-implemented DBSCAN algorithm. For details, refer to https://scikit-learn.org/stable/modules/generated/sklearn.cluster.DBSCAN.html. "
   ]
  },
  {
   "cell_type": "code",
   "execution_count": 11,
   "metadata": {
    "colab": {
     "base_uri": "https://localhost:8080/",
     "height": 283
    },
    "colab_type": "code",
    "id": "nPsIzTrstjYm",
    "outputId": "d370cd59-8958-4ea2-9d24-5b99009c5003"
   },
   "outputs": [
    {
     "name": "stdout",
     "output_type": "stream",
     "text": [
      "[ 0  1  0  1  1  0  0  0  1  0  0  1  1  1  1  1  0  0  1  1  0  0  0  0\n",
      "  0  1  1  1  0  1  0  0  0  1  0  1  0  0  0  0  1  0  0  0  0  1  0  1\n",
      "  1  1  0  0  0  0  0  1  1  0  0  1  1  0  0  0  1  1  1  1  1  0  1  0\n",
      "  0  0  0  1  0  0  0  0  1  0  0  0  0  1  1  0  1  0  0  0  1  1  1  1\n",
      "  0  1  0  1  1  0  1  1  0  0  0  0  0  1  1  1  0  0  0  0  1  1  0  0\n",
      "  0  1  0  1  0  0  1  1  0  1  0  1  0  0  1  0  1  1  1  1  1  1  1  1\n",
      "  0  1  0  0  0  0  0  1  0  0  1  1  0  0  1  1  0  1  0  0  1  0  0  1\n",
      "  0  0  0  0  0  1  1  0  1  0  0  1  1  0  0  0  1  0  0  0  1  0  0  1\n",
      "  0  0  1  1  0  1  1  1  0  1  0  1  1  1  1  0  1  1  0  1  0  0  1  1\n",
      "  1  0  0  0  0  0  0  1  1  0  0  1  0  0  1  0  1  0  0  0  0  1  1  0\n",
      "  0  1  0  0  0  1  0  0  1  1  1  0  1  1 -1  0  1  1  0  1  1  0  1  0\n",
      "  0  1  0  1  1  0  1  1  0  1  0  0  0  1  0  0  0  1  0  0  1  1  1  1\n",
      "  1  1  0  1  0  1  1  1  0  1  0  0  1  1  1  1  0  0  1  0  0  1  1  1\n",
      "  0  0  1  1  0  0  1  0  0  0  1  0  1  1  0  0  1  1  1  1  1  1  1  1\n",
      "  1  0  1  0  1  0  1  0  1  1  1  1  1  1  0  0  1  1  0  0  0  1  1  1\n",
      "  1  1  0  1  0  1  0  1  1  1  0  0  0  1  0  1  1  0  1  0  0  1  0  0\n",
      "  1  1  0  1  0  0  0  1  0  0  0  0  1  1  0  0  1  0  0  1  0  0  0  1\n",
      "  1  0  1  0  1  0  1  0  1  0  0  0  0  1  1  1  1  1  1  1  0  1  1  1\n",
      "  1  1  1  0  1  1  1  0  0  1  0  0  0  1  1  1  1  0  0  1  0  0  1  1\n",
      "  1  1  1  1  1  1  1  1  0  0  0  0  0  0  0  0  1  0  1  1  0  1  0  0\n",
      "  1  1  1  1  0  0  0  1  1  0  1  0  0  0  1  1  1  1  1  1  0  1  1  0\n",
      "  1  0  1  0  1  0  1  0  1  0  1  0  1  1  1  0  1  1  0  0  1  0  0  1\n",
      "  0  1  0  1  0  0  1  0  0  1  0  1  0  1  1  0  0  0  0  1  0  1  1  1\n",
      "  0  0  0  1  1  1  0  1  1  1  0  0  0  0  0  1  0  1  1  1  1  0  0  1\n",
      "  1  1  1  1  1  0  0  1  1  0  1  0  1  0  0  0  0  1  0  0  0  1  0  0\n",
      "  1  0  0  1  1  0  1  0  1  1  0  0  1  1  1  1  0  1  0  1  0  1  1  0\n",
      "  1  0  0  0  0  1  1  1  0  1  1  1  0  1  1  0  1  0  1  0  1  0  1  0\n",
      "  1  1  1  1  1  0  0  0  0  1  0  0  0  0  1  1  1  1  0  0  1  0  0  1\n",
      "  0  1  1  1  1  0  0  1  0  0  0  1  0  0  0  0  1  0  0  0  1  1  1  1\n",
      "  0  0  1  0  0  0  0  0  1  1  1  1  0  0 -1  1  1  0  1  1  0  0  1  1\n",
      "  0  1  0  1  1  0  0  0  0  0  0  1  0  0  1  1  1  1  1  1  0  1  1  0\n",
      "  1  1  0  1  0  1]\n"
     ]
    }
   ],
   "source": [
    "# import necessary packages.\n",
    "import numpy as np\n",
    "import matplotlib.pyplot as plt\n",
    "from sklearn.datasets import make_circles\n",
    "from sklearn.preprocessing import StandardScaler\n",
    "from sklearn.cluster import DBSCAN\n",
    "from pandas import DataFrame\n",
    "\n",
    "# load the data\n",
    "data = pd.read_csv('dummy_spiral.csv')\n",
    "X = data[['x', 'y']].values \n",
    "# normalize the data\n",
    "# X = StandardScaler().fit_transform(X)\n",
    "\n",
    "# predict using DBSCAN with Eps = 0.2 and minPts = 10\n",
    "y_pred = DBSCAN(eps=0.2, min_samples=10).fit_predict(X)\n",
    "\n",
    "print(y_pred)"
   ]
  },
  {
   "cell_type": "markdown",
   "metadata": {},
   "source": [
    "The values shown are -1, 0, 1, where -1 denotes the point is a noisy point. 0 and 1 specify two clusters the points belong to. "
   ]
  },
  {
   "cell_type": "code",
   "execution_count": 12,
   "metadata": {
    "colab": {},
    "colab_type": "code",
    "id": "CrfKYKYqebxU"
   },
   "outputs": [
    {
     "name": "stdout",
     "output_type": "stream",
     "text": [
      "Number of clusters: 2\n"
     ]
    },
    {
     "data": {
      "image/png": "[encoded data removed]",
      "text/plain": [
       "<Figure size 432x288 with 1 Axes>"
      ]
     },
     "metadata": {
      "needs_background": "light"
     },
     "output_type": "display_data"
    }
   ],
   "source": [
    "# Plot the results\n",
    "plt.scatter(X[:,0], X[:,1], c=y_pred)\n",
    "print('Number of clusters: {}'.format(len(set(y_pred[np.where(y_pred != -1)]))))"
   ]
  },
  {
   "cell_type": "markdown",
   "metadata": {
    "colab_type": "text",
    "id": "sDifDUG5M6vh"
   },
   "source": [
    "**Exercise:** running DBSCAN for the data 'spiral.csv' in Week 5 Tutorial.Plot the result and see whether DBSCAN can successfully cluster the data. "
   ]
  }
 ],
 "metadata": {
  "colab": {
   "collapsed_sections": [],
   "name": "Tutorial4.ipynb",
   "provenance": [],
   "toc_visible": true
  },
  "kernelspec": {
   "display_name": "Python 3",
   "language": "python",
   "name": "python3"
  },
  "language_info": {
   "codemirror_mode": {
    "name": "ipython",
    "version": 3
   },
   "file_extension": ".py",
   "mimetype": "text/x-python",
   "name": "python",
   "nbconvert_exporter": "python",
   "pygments_lexer": "ipython3",
   "version": "3.8.3"
  }
 },
 "nbformat": 4,
 "nbformat_minor": 1
}
