{
 "cells": [
  {
   "cell_type": "code",
   "execution_count": 2,
   "metadata": {},
   "outputs": [
    {
     "name": "stdout",
     "output_type": "stream",
     "text": [
      "loading successful\n"
     ]
    }
   ],
   "source": [
    "# Import the libraries and load data\n",
    "import mlxtend\n",
    "import pandas as pd\n",
    "import numpy as np\n",
    "\n",
    "# load data from groceries.csv\n",
    "df = pd.read_csv('https://raw.githubusercontent.com/danielzhangau/Data-Mining/master/wk4%20tutorial/groceries.csv')\n",
    "# give a sign when the task finished\n",
    "print(\"loading successful\")"
   ]
  },
  {
   "cell_type": "code",
   "execution_count": 3,
   "metadata": {},
   "outputs": [
    {
     "name": "stdout",
     "output_type": "stream",
     "text": [
      "            item1                item2      item3        item4 item5 item6  \\\n",
      "0    citrus fruit  semi-finished bread  margarine  ready soups   NaN   NaN   \n",
      "1  tropical fruit               yogurt     coffee          NaN   NaN   NaN   \n",
      "2      whole milk                  NaN        NaN          NaN   NaN   NaN   \n",
      "\n",
      "  item7 item8 item9 item10  ... item21 item22 item23 item24 item25 item26  \\\n",
      "0   NaN   NaN   NaN    NaN  ...    NaN    NaN    NaN    NaN    NaN    NaN   \n",
      "1   NaN   NaN   NaN    NaN  ...    NaN    NaN    NaN    NaN    NaN    NaN   \n",
      "2   NaN   NaN   NaN    NaN  ...    NaN    NaN    NaN    NaN    NaN    NaN   \n",
      "\n",
      "  item27 item28 item29 item30  \n",
      "0    NaN    NaN    NaN    NaN  \n",
      "1    NaN    NaN    NaN    NaN  \n",
      "2    NaN    NaN    NaN    NaN  \n",
      "\n",
      "[3 rows x 30 columns]\n"
     ]
    }
   ],
   "source": [
    "# show the first three transactions\n",
    "# transaction 0: citrus fruit, semi-finished bread, margarine, ready soups\n",
    "# transaction 1: tropical fruit, yogurt, coffee\n",
    "# transaction 2: whole milk\n",
    "print(df.head(3))\n",
    "\n",
    "# try by yourself\n",
    "# print(df.head(4))\n",
    "# print(df.head(100))"
   ]
  },
  {
   "cell_type": "code",
   "execution_count": 4,
   "metadata": {},
   "outputs": [
    {
     "name": "stdout",
     "output_type": "stream",
     "text": [
      "Done\n"
     ]
    }
   ],
   "source": [
    "# change the data to list\n",
    "dataset = df.values.tolist()\n",
    "cleanList = []\n",
    "\n",
    "for trans in dataset: # for each transaction\n",
    "    cleanTrans = []\n",
    "    for x in trans: # for each element in the transaction\n",
    "        if str(x) != 'nan': # if the item is not 'nan', put it in the list\n",
    "            cleanTrans.append(x)\n",
    "    cleanList.append(cleanTrans)\n",
    "dataset = np.asarray(cleanList)\n",
    "\n",
    "# give a sign when the task finished\n",
    "print('Done')"
   ]
  },
  {
   "cell_type": "code",
   "execution_count": 5,
   "metadata": {},
   "outputs": [
    {
     "name": "stdout",
     "output_type": "stream",
     "text": [
      "[list(['citrus fruit', 'semi-finished bread', 'margarine', 'ready soups'])\n",
      " list(['tropical fruit', 'yogurt', 'coffee']) list(['whole milk']) ...\n",
      " list(['chicken', 'citrus fruit', 'other vegetables', 'butter', 'yogurt', 'frozen dessert', 'domestic eggs', 'rolls/buns', 'rum', 'cling film/bags'])\n",
      " list(['semi-finished bread', 'bottled water', 'soda', 'bottled beer'])\n",
      " list(['chicken', 'tropical fruit', 'other vegetables', 'vinegar', 'shopping bags'])]\n"
     ]
    }
   ],
   "source": [
    "# let's see the dataset\n",
    "print(dataset)"
   ]
  },
  {
   "cell_type": "code",
   "execution_count": 6,
   "metadata": {},
   "outputs": [
    {
     "name": "stdout",
     "output_type": "stream",
     "text": [
      "Done!\n"
     ]
    }
   ],
   "source": [
    "from mlxtend.preprocessing import TransactionEncoder\n",
    "from mlxtend.frequent_patterns import apriori\n",
    "\n",
    "# This part is not required to be understood. You can just run the code and skip it.\n",
    "te = TransactionEncoder() # a pre-defined function to transfer data\n",
    "te_ary = te.fit(dataset).transform(dataset) \n",
    "df = pd.DataFrame(te_ary, columns=te.columns_) # fit the transferred data back into a pandas data format\n",
    "\n",
    "# give a sign when the task finished\n",
    "print('Done!')"
   ]
  },
  {
   "cell_type": "code",
   "execution_count": 7,
   "metadata": {},
   "outputs": [
    {
     "name": "stdout",
     "output_type": "stream",
     "text": [
      "   Instant food products  UHT-milk  abrasive cleaner  artif. sweetener  \\\n",
      "0                  False     False             False             False   \n",
      "1                  False     False             False             False   \n",
      "2                  False     False             False             False   \n",
      "\n",
      "   baby cosmetics  baby food   bags  baking powder  bathroom cleaner   beef  \\\n",
      "0           False      False  False          False             False  False   \n",
      "1           False      False  False          False             False  False   \n",
      "2           False      False  False          False             False  False   \n",
      "\n",
      "   ...  turkey  vinegar  waffles  whipped/sour cream  whisky  white bread  \\\n",
      "0  ...   False    False    False               False   False        False   \n",
      "1  ...   False    False    False               False   False        False   \n",
      "2  ...   False    False    False               False   False        False   \n",
      "\n",
      "   white wine  whole milk  yogurt  zwieback  \n",
      "0       False       False   False     False  \n",
      "1       False       False    True     False  \n",
      "2       False        True   False     False  \n",
      "\n",
      "[3 rows x 169 columns]\n"
     ]
    }
   ],
   "source": [
    "# let's see the first three transactions of the current data\n",
    "print(df.head(3))"
   ]
  },
  {
   "cell_type": "code",
   "execution_count": 8,
   "metadata": {},
   "outputs": [
    {
     "name": "stdout",
     "output_type": "stream",
     "text": [
      "Done!\n"
     ]
    }
   ],
   "source": [
    "# define the MIN_SUPP\n",
    "MIN_SUPP = 0.02\n",
    "\n",
    "# apply the defined apriori algorithm\n",
    "freq_set = apriori(df, min_support=MIN_SUPP,use_colnames=True)\n",
    "\n",
    "print('Done!')"
   ]
  },
  {
   "cell_type": "code",
   "execution_count": 9,
   "metadata": {},
   "outputs": [
    {
     "data": {
      "text/html": [
       "<div>\n",
       "<style scoped>\n",
       "    .dataframe tbody tr th:only-of-type {\n",
       "        vertical-align: middle;\n",
       "    }\n",
       "\n",
       "    .dataframe tbody tr th {\n",
       "        vertical-align: top;\n",
       "    }\n",
       "\n",
       "    .dataframe thead th {\n",
       "        text-align: right;\n",
       "    }\n",
       "</style>\n",
       "<table border=\"1\" class=\"dataframe\">\n",
       "  <thead>\n",
       "    <tr style=\"text-align: right;\">\n",
       "      <th></th>\n",
       "      <th>support</th>\n",
       "      <th>itemsets</th>\n",
       "    </tr>\n",
       "  </thead>\n",
       "  <tbody>\n",
       "    <tr>\n",
       "      <th>0</th>\n",
       "      <td>0.033452</td>\n",
       "      <td>(UHT-milk)</td>\n",
       "    </tr>\n",
       "    <tr>\n",
       "      <th>1</th>\n",
       "      <td>0.052466</td>\n",
       "      <td>(beef)</td>\n",
       "    </tr>\n",
       "    <tr>\n",
       "      <th>2</th>\n",
       "      <td>0.033249</td>\n",
       "      <td>(berries)</td>\n",
       "    </tr>\n",
       "    <tr>\n",
       "      <th>3</th>\n",
       "      <td>0.026029</td>\n",
       "      <td>(beverages)</td>\n",
       "    </tr>\n",
       "    <tr>\n",
       "      <th>4</th>\n",
       "      <td>0.080529</td>\n",
       "      <td>(bottled beer)</td>\n",
       "    </tr>\n",
       "    <tr>\n",
       "      <th>...</th>\n",
       "      <td>...</td>\n",
       "      <td>...</td>\n",
       "    </tr>\n",
       "    <tr>\n",
       "      <th>117</th>\n",
       "      <td>0.032232</td>\n",
       "      <td>(whipped/sour cream, whole milk)</td>\n",
       "    </tr>\n",
       "    <tr>\n",
       "      <th>118</th>\n",
       "      <td>0.020742</td>\n",
       "      <td>(whipped/sour cream, yogurt)</td>\n",
       "    </tr>\n",
       "    <tr>\n",
       "      <th>119</th>\n",
       "      <td>0.056024</td>\n",
       "      <td>(whole milk, yogurt)</td>\n",
       "    </tr>\n",
       "    <tr>\n",
       "      <th>120</th>\n",
       "      <td>0.023183</td>\n",
       "      <td>(whole milk, root vegetables, other vegetables)</td>\n",
       "    </tr>\n",
       "    <tr>\n",
       "      <th>121</th>\n",
       "      <td>0.022267</td>\n",
       "      <td>(whole milk, other vegetables, yogurt)</td>\n",
       "    </tr>\n",
       "  </tbody>\n",
       "</table>\n",
       "<p>122 rows × 2 columns</p>\n",
       "</div>"
      ],
      "text/plain": [
       "      support                                         itemsets\n",
       "0    0.033452                                       (UHT-milk)\n",
       "1    0.052466                                           (beef)\n",
       "2    0.033249                                        (berries)\n",
       "3    0.026029                                      (beverages)\n",
       "4    0.080529                                   (bottled beer)\n",
       "..        ...                                              ...\n",
       "117  0.032232                 (whipped/sour cream, whole milk)\n",
       "118  0.020742                     (whipped/sour cream, yogurt)\n",
       "119  0.056024                             (whole milk, yogurt)\n",
       "120  0.023183  (whole milk, root vegetables, other vegetables)\n",
       "121  0.022267           (whole milk, other vegetables, yogurt)\n",
       "\n",
       "[122 rows x 2 columns]"
      ]
     },
     "execution_count": 9,
     "metadata": {},
     "output_type": "execute_result"
    }
   ],
   "source": [
    "# let's see our result\n",
    "freq_set"
   ]
  },
  {
   "cell_type": "code",
   "execution_count": null,
   "metadata": {},
   "outputs": [],
   "source": [
    "\n",
    "# check the 10th frequent itemset\n",
    "freq_set.loc[[10], ['support', 'itemsets']]"
   ]
  }
 ],
 "metadata": {
  "kernelspec": {
   "display_name": "Python 3",
   "language": "python",
   "name": "python3"
  },
  "language_info": {
   "codemirror_mode": {
    "name": "ipython",
    "version": 3
   },
   "file_extension": ".py",
   "mimetype": "text/x-python",
   "name": "python",
   "nbconvert_exporter": "python",
   "pygments_lexer": "ipython3",
   "version": "3.8.3"
  }
 },
 "nbformat": 4,
 "nbformat_minor": 4
}
