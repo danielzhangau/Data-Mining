{
 "cells": [
  {
   "cell_type": "markdown",
   "metadata": {},
   "source": [
    "# INFS4203/7203 Data Mining Tutorial 2"
   ]
  },
  {
   "cell_type": "markdown",
   "metadata": {},
   "source": [
    "Let's see how we can apply the external library to find frequent itemsets"
   ]
  },
  {
   "cell_type": "markdown",
   "metadata": {},
   "source": [
    "# 1. Install mlxtend library"
   ]
  },
  {
   "cell_type": "markdown",
   "metadata": {},
   "source": [
    "The mlxtend package can be installed in either of these two ways: \n",
    "\n",
    "1. running\n",
    "**conda install -c conda-forge mlxtend** \n",
    "on your *Anaconda command promote*\n",
    "\n",
    "OR\n",
    "\n",
    "2. running\n",
    "**pip install mlxtend** \n",
    "on your *terminal* .\n",
    "\n",
    "For more information, please check the documentation of mlxtend at http://rasbt.github.io/mlxtend/user_guide/frequent_patterns/apriori/\n"
   ]
  },
  {
   "cell_type": "markdown",
   "metadata": {},
   "source": [
    "# 2. Load data"
   ]
  },
  {
   "cell_type": "markdown",
   "metadata": {},
   "source": [
    "We load the provided data *groceries.csv*."
   ]
  },
  {
   "cell_type": "code",
   "execution_count": 2,
   "metadata": {},
   "outputs": [
    {
     "name": "stdout",
     "output_type": "stream",
     "text": [
      "loading successful\n"
     ]
    }
   ],
   "source": [
    "# Import the libraries and load data\n",
    "import mlxtend\n",
    "import pandas as pd\n",
    "import numpy as np\n",
    "\n",
    "# load data from groceries.csv\n",
    "df = pd.read_csv('groceries.csv')\n",
    "# give a sign when the task finished\n",
    "print(\"loading successful\")"
   ]
  },
  {
   "cell_type": "code",
   "execution_count": 3,
   "metadata": {},
   "outputs": [
    {
     "name": "stdout",
     "output_type": "stream",
     "text": [
      "            item1                item2      item3        item4 item5 item6  \\\n",
      "0    citrus fruit  semi-finished bread  margarine  ready soups   NaN   NaN   \n",
      "1  tropical fruit               yogurt     coffee          NaN   NaN   NaN   \n",
      "2      whole milk                  NaN        NaN          NaN   NaN   NaN   \n",
      "\n",
      "  item7 item8 item9 item10  ... item21 item22 item23 item24 item25 item26  \\\n",
      "0   NaN   NaN   NaN    NaN  ...    NaN    NaN    NaN    NaN    NaN    NaN   \n",
      "1   NaN   NaN   NaN    NaN  ...    NaN    NaN    NaN    NaN    NaN    NaN   \n",
      "2   NaN   NaN   NaN    NaN  ...    NaN    NaN    NaN    NaN    NaN    NaN   \n",
      "\n",
      "  item27 item28 item29 item30  \n",
      "0    NaN    NaN    NaN    NaN  \n",
      "1    NaN    NaN    NaN    NaN  \n",
      "2    NaN    NaN    NaN    NaN  \n",
      "\n",
      "[3 rows x 30 columns]\n"
     ]
    }
   ],
   "source": [
    "# show the first three transactions\n",
    "# transaction 0: citrus fruit, semi-finished bread, margarine, ready soups\n",
    "# transaction 1: tropical fruit, yogurt, coffee\n",
    "# transaction 2: whole milk\n",
    "print(df.head(3))\n",
    "\n",
    "# try by yourself\n",
    "# print(df.head(4))\n",
    "# print(df.head(100))"
   ]
  },
  {
   "cell_type": "markdown",
   "metadata": {},
   "source": [
    "# 3. Change the data format"
   ]
  },
  {
   "cell_type": "markdown",
   "metadata": {},
   "source": [
    "From the documentation, we can see the required data format is like:\n",
    "\n",
    "\n",
    "\n",
    "|     | Type 1 | Type 2 | ...    | Type N |\n",
    "| --- | ------ | ----   | ----   |  ----  |\n",
    "| 0   | True   | False  | ...    | True   |\n",
    "| 1   | False  | True   | ...    | True   |\n",
    "| 2   | True   | True   | ...    | False  |\n",
    "| 3   | True   | True   | ...    | True   |\n",
    "\n",
    "So next, we learn how to format the original transaction data into this one.\n",
    "\n",
    "**We first make each transaction into a \"list\"**, where \"list\" is a prespecified data structure in Python.\n",
    "(See here for more on list: https://docs.python.org/3/tutorial/introduction.html#lists)\n"
   ]
  },
  {
   "cell_type": "code",
   "execution_count": 4,
   "metadata": {},
   "outputs": [
    {
     "name": "stdout",
     "output_type": "stream",
     "text": [
      "Done\n"
     ]
    }
   ],
   "source": [
    "# change the data to list\n",
    "dataset = df.values.tolist()\n",
    "cleanList = []\n",
    "\n",
    "for trans in dataset: # for each transaction\n",
    "    cleanTrans = []\n",
    "    for x in trans: # for each element in the transaction\n",
    "        if str(x) != 'nan': # if the item is not 'nan', put it in the list\n",
    "            cleanTrans.append(x)\n",
    "    cleanList.append(cleanTrans)\n",
    "dataset = np.asarray(cleanList)\n",
    "\n",
    "# give a sign when the task finished\n",
    "print('Done')"
   ]
  },
  {
   "cell_type": "code",
   "execution_count": 5,
   "metadata": {},
   "outputs": [
    {
     "name": "stdout",
     "output_type": "stream",
     "text": [
      "[list(['citrus fruit', 'semi-finished bread', 'margarine', 'ready soups'])\n",
      " list(['tropical fruit', 'yogurt', 'coffee']) list(['whole milk']) ...\n",
      " list(['chicken', 'citrus fruit', 'other vegetables', 'butter', 'yogurt', 'frozen dessert', 'domestic eggs', 'rolls/buns', 'rum', 'cling film/bags'])\n",
      " list(['semi-finished bread', 'bottled water', 'soda', 'bottled beer'])\n",
      " list(['chicken', 'tropical fruit', 'other vegetables', 'vinegar', 'shopping bags'])]\n"
     ]
    }
   ],
   "source": [
    "# let's see the dataset\n",
    "print(dataset)"
   ]
  },
  {
   "cell_type": "markdown",
   "metadata": {},
   "source": [
    "**We then change the list into a mlxtend required format use the function *TransactionEncoder()*.**"
   ]
  },
  {
   "cell_type": "code",
   "execution_count": 6,
   "metadata": {},
   "outputs": [
    {
     "name": "stdout",
     "output_type": "stream",
     "text": [
      "Done!\n"
     ]
    }
   ],
   "source": [
    "from mlxtend.preprocessing import TransactionEncoder\n",
    "from mlxtend.frequent_patterns import apriori\n",
    "\n",
    "# This part is not required to be understood. You can just run the code and skip it.\n",
    "te = TransactionEncoder() # a pre-defined function to transfer data\n",
    "te_ary = te.fit(dataset).transform(dataset) \n",
    "df = pd.DataFrame(te_ary, columns=te.columns_) # fit the transferred data back into a pandas data format\n",
    "\n",
    "# give a sign when the task finished\n",
    "print('Done!')"
   ]
  },
  {
   "cell_type": "code",
   "execution_count": 7,
   "metadata": {},
   "outputs": [
    {
     "name": "stdout",
     "output_type": "stream",
     "text": [
      "   Instant food products  UHT-milk  abrasive cleaner  artif. sweetener  \\\n",
      "0                  False     False             False             False   \n",
      "1                  False     False             False             False   \n",
      "2                  False     False             False             False   \n",
      "\n",
      "   baby cosmetics  baby food   bags  baking powder  bathroom cleaner   beef  \\\n",
      "0           False      False  False          False             False  False   \n",
      "1           False      False  False          False             False  False   \n",
      "2           False      False  False          False             False  False   \n",
      "\n",
      "   ...  turkey  vinegar  waffles  whipped/sour cream  whisky  white bread  \\\n",
      "0  ...   False    False    False               False   False        False   \n",
      "1  ...   False    False    False               False   False        False   \n",
      "2  ...   False    False    False               False   False        False   \n",
      "\n",
      "   white wine  whole milk  yogurt  zwieback  \n",
      "0       False       False   False     False  \n",
      "1       False       False    True     False  \n",
      "2       False        True   False     False  \n",
      "\n",
      "[3 rows x 169 columns]\n"
     ]
    }
   ],
   "source": [
    "# let's see the first three transactions of the current data\n",
    "print(df.head(3))"
   ]
  },
  {
   "cell_type": "markdown",
   "metadata": {},
   "source": [
    "Great, you have done it!"
   ]
  },
  {
   "cell_type": "markdown",
   "metadata": {},
   "source": [
    "# 4. Apply the Apriori algorithm"
   ]
  },
  {
   "cell_type": "markdown",
   "metadata": {},
   "source": [
    "After we have the data organized as the requirement, we can apply the apriori algorithm:"
   ]
  },
  {
   "cell_type": "code",
   "execution_count": 8,
   "metadata": {},
   "outputs": [
    {
     "name": "stdout",
     "output_type": "stream",
     "text": [
      "Done!\n"
     ]
    }
   ],
   "source": [
    "# define the MIN_SUPP\n",
    "MIN_SUPP = 0.02\n",
    "\n",
    "# apply the defined apriori algorithm\n",
    "freq_set = apriori(df, min_support=MIN_SUPP,use_colnames=True)\n",
    "\n",
    "print('Done!')"
   ]
  },
  {
   "cell_type": "code",
   "execution_count": 9,
   "metadata": {},
   "outputs": [
    {
     "data": {
      "text/html": [
       "<div>\n",
       "<style scoped>\n",
       "    .dataframe tbody tr th:only-of-type {\n",
       "        vertical-align: middle;\n",
       "    }\n",
       "\n",
       "    .dataframe tbody tr th {\n",
       "        vertical-align: top;\n",
       "    }\n",
       "\n",
       "    .dataframe thead th {\n",
       "        text-align: right;\n",
       "    }\n",
       "</style>\n",
       "<table border=\"1\" class=\"dataframe\">\n",
       "  <thead>\n",
       "    <tr style=\"text-align: right;\">\n",
       "      <th></th>\n",
       "      <th>support</th>\n",
       "      <th>itemsets</th>\n",
       "    </tr>\n",
       "  </thead>\n",
       "  <tbody>\n",
       "    <tr>\n",
       "      <th>0</th>\n",
       "      <td>0.033452</td>\n",
       "      <td>(UHT-milk)</td>\n",
       "    </tr>\n",
       "    <tr>\n",
       "      <th>1</th>\n",
       "      <td>0.052466</td>\n",
       "      <td>(beef)</td>\n",
       "    </tr>\n",
       "    <tr>\n",
       "      <th>2</th>\n",
       "      <td>0.033249</td>\n",
       "      <td>(berries)</td>\n",
       "    </tr>\n",
       "    <tr>\n",
       "      <th>3</th>\n",
       "      <td>0.026029</td>\n",
       "      <td>(beverages)</td>\n",
       "    </tr>\n",
       "    <tr>\n",
       "      <th>4</th>\n",
       "      <td>0.080529</td>\n",
       "      <td>(bottled beer)</td>\n",
       "    </tr>\n",
       "    <tr>\n",
       "      <th>...</th>\n",
       "      <td>...</td>\n",
       "      <td>...</td>\n",
       "    </tr>\n",
       "    <tr>\n",
       "      <th>117</th>\n",
       "      <td>0.032232</td>\n",
       "      <td>(whole milk, whipped/sour cream)</td>\n",
       "    </tr>\n",
       "    <tr>\n",
       "      <th>118</th>\n",
       "      <td>0.020742</td>\n",
       "      <td>(yogurt, whipped/sour cream)</td>\n",
       "    </tr>\n",
       "    <tr>\n",
       "      <th>119</th>\n",
       "      <td>0.056024</td>\n",
       "      <td>(whole milk, yogurt)</td>\n",
       "    </tr>\n",
       "    <tr>\n",
       "      <th>120</th>\n",
       "      <td>0.023183</td>\n",
       "      <td>(whole milk, root vegetables, other vegetables)</td>\n",
       "    </tr>\n",
       "    <tr>\n",
       "      <th>121</th>\n",
       "      <td>0.022267</td>\n",
       "      <td>(whole milk, yogurt, other vegetables)</td>\n",
       "    </tr>\n",
       "  </tbody>\n",
       "</table>\n",
       "<p>122 rows × 2 columns</p>\n",
       "</div>"
      ],
      "text/plain": [
       "      support                                         itemsets\n",
       "0    0.033452                                       (UHT-milk)\n",
       "1    0.052466                                           (beef)\n",
       "2    0.033249                                        (berries)\n",
       "3    0.026029                                      (beverages)\n",
       "4    0.080529                                   (bottled beer)\n",
       "..        ...                                              ...\n",
       "117  0.032232                 (whole milk, whipped/sour cream)\n",
       "118  0.020742                     (yogurt, whipped/sour cream)\n",
       "119  0.056024                             (whole milk, yogurt)\n",
       "120  0.023183  (whole milk, root vegetables, other vegetables)\n",
       "121  0.022267           (whole milk, yogurt, other vegetables)\n",
       "\n",
       "[122 rows x 2 columns]"
      ]
     },
     "execution_count": 9,
     "metadata": {},
     "output_type": "execute_result"
    }
   ],
   "source": [
    "# let's see our result\n",
    "freq_set"
   ]
  },
  {
   "cell_type": "markdown",
   "metadata": {},
   "source": [
    "OK. Now we have 122 frequent itemsets, sorted according to the support. "
   ]
  },
  {
   "cell_type": "markdown",
   "metadata": {},
   "source": [
    "## How to check the i-th frequent itemset?"
   ]
  },
  {
   "cell_type": "code",
   "execution_count": 10,
   "metadata": {},
   "outputs": [
    {
     "data": {
      "text/html": [
       "<div>\n",
       "<style scoped>\n",
       "    .dataframe tbody tr th:only-of-type {\n",
       "        vertical-align: middle;\n",
       "    }\n",
       "\n",
       "    .dataframe tbody tr th {\n",
       "        vertical-align: top;\n",
       "    }\n",
       "\n",
       "    .dataframe thead th {\n",
       "        text-align: right;\n",
       "    }\n",
       "</style>\n",
       "<table border=\"1\" class=\"dataframe\">\n",
       "  <thead>\n",
       "    <tr style=\"text-align: right;\">\n",
       "      <th></th>\n",
       "      <th>support</th>\n",
       "      <th>itemsets</th>\n",
       "    </tr>\n",
       "  </thead>\n",
       "  <tbody>\n",
       "    <tr>\n",
       "      <th>10</th>\n",
       "      <td>0.077682</td>\n",
       "      <td>(canned beer)</td>\n",
       "    </tr>\n",
       "  </tbody>\n",
       "</table>\n",
       "</div>"
      ],
      "text/plain": [
       "     support       itemsets\n",
       "10  0.077682  (canned beer)"
      ]
     },
     "execution_count": 10,
     "metadata": {},
     "output_type": "execute_result"
    }
   ],
   "source": [
    "# check the 10th frequent itemset\n",
    "freq_set.loc[[10], ['support', 'itemsets']]"
   ]
  },
  {
   "cell_type": "markdown",
   "metadata": {},
   "source": [
    "## How to check whether an itemset is frequent?"
   ]
  },
  {
   "cell_type": "markdown",
   "metadata": {},
   "source": [
    " If it is frequent, provide the location of the itemset in **feq_set**; otherwise provide \"Not frequent\". "
   ]
  },
  {
   "cell_type": "markdown",
   "metadata": {},
   "source": [
    "### Check whether 'beef' is frequent"
   ]
  },
  {
   "cell_type": "code",
   "execution_count": 11,
   "metadata": {},
   "outputs": [
    {
     "name": "stdout",
     "output_type": "stream",
     "text": [
      "Found at location 1\n"
     ]
    }
   ],
   "source": [
    "# specify the itemset you want to check\n",
    "check_set = ['beef']\n",
    "\n",
    "# Select the idx from the frequent set based on the given check_set\n",
    "itemset_idx = freq_set.index[freq_set['itemsets'] == frozenset(check_set)].tolist()\n",
    "if itemset_idx==[]: # given check_set does not exist in the frequent set\n",
    "    print('Not frequent!')\n",
    "else:\n",
    "    print('Found at location '+str(itemset_idx[0]))"
   ]
  },
  {
   "cell_type": "markdown",
   "metadata": {},
   "source": [
    "### Check whether 'whole milk, yogurt' is frequent"
   ]
  },
  {
   "cell_type": "code",
   "execution_count": 12,
   "metadata": {},
   "outputs": [
    {
     "name": "stdout",
     "output_type": "stream",
     "text": [
      "Found at location 119\n"
     ]
    }
   ],
   "source": [
    "check_set = ['yogurt','whole milk']\n",
    "\n",
    "# Select the idx from the frequent set based on the given check_set\n",
    "itemset_idx = freq_set.index[freq_set['itemsets'] == frozenset(check_set)].tolist()\n",
    "if itemset_idx==[]: # given check_set does not exist in the frequent set\n",
    "    print('Not frequent!')\n",
    "else:\n",
    "    print('Found at location '+str(itemset_idx[0]))"
   ]
  },
  {
   "cell_type": "markdown",
   "metadata": {},
   "source": [
    "### Check whether 'university, queensland' is frequent"
   ]
  },
  {
   "cell_type": "code",
   "execution_count": 13,
   "metadata": {},
   "outputs": [
    {
     "name": "stdout",
     "output_type": "stream",
     "text": [
      "Not frequent!\n"
     ]
    }
   ],
   "source": [
    "check_set = ['university','queensland']\n",
    "\n",
    "# Select the idx from the frequent set based on the given check_set\n",
    "itemset_idx = freq_set.index[freq_set['itemsets'] == frozenset(check_set)].tolist()\n",
    "if itemset_idx==[]:\n",
    "    print('Not frequent!') # given check_set does not exist in the frequent set\n",
    "else:\n",
    "    print('Found at location '+str(itemset_idx[0]))"
   ]
  },
  {
   "cell_type": "markdown",
   "metadata": {},
   "source": [
    "### (Ass2) Check whether 'whole milk, tropical fruit, citrus fruit' is frequent"
   ]
  },
  {
   "cell_type": "code",
   "execution_count": 14,
   "metadata": {},
   "outputs": [
    {
     "name": "stdout",
     "output_type": "stream",
     "text": [
      "Done!\n"
     ]
    }
   ],
   "source": [
    "# define the MIN_SUPP\n",
    "MIN_SUPP = 0.005\n",
    "\n",
    "# apply the defined apriori algorithm\n",
    "freq_set = apriori(df, min_support=MIN_SUPP,use_colnames=True)\n",
    "\n",
    "print('Done!')"
   ]
  },
  {
   "cell_type": "code",
   "execution_count": 15,
   "metadata": {},
   "outputs": [
    {
     "name": "stdout",
     "output_type": "stream",
     "text": [
      "Found at location 800\n"
     ]
    }
   ],
   "source": [
    "check_set = ['whole milk','tropical fruit', 'citrus fruit']\n",
    "\n",
    "# Select the idx from the frequent set based on the given check_set\n",
    "itemset_idx = freq_set.index[freq_set['itemsets'] == frozenset(check_set)].tolist()\n",
    "if itemset_idx==[]:\n",
    "    print('Not frequent!') # given check_set does not exist in the frequent set\n",
    "else:\n",
    "    print('Found at location '+str(itemset_idx[0]))"
   ]
  },
  {
   "cell_type": "code",
   "execution_count": 16,
   "metadata": {},
   "outputs": [
    {
     "data": {
      "text/html": [
       "<div>\n",
       "<style scoped>\n",
       "    .dataframe tbody tr th:only-of-type {\n",
       "        vertical-align: middle;\n",
       "    }\n",
       "\n",
       "    .dataframe tbody tr th {\n",
       "        vertical-align: top;\n",
       "    }\n",
       "\n",
       "    .dataframe thead th {\n",
       "        text-align: right;\n",
       "    }\n",
       "</style>\n",
       "<table border=\"1\" class=\"dataframe\">\n",
       "  <thead>\n",
       "    <tr style=\"text-align: right;\">\n",
       "      <th></th>\n",
       "      <th>support</th>\n",
       "      <th>itemsets</th>\n",
       "    </tr>\n",
       "  </thead>\n",
       "  <tbody>\n",
       "    <tr>\n",
       "      <th>800</th>\n",
       "      <td>0.009049</td>\n",
       "      <td>(tropical fruit, whole milk, citrus fruit)</td>\n",
       "    </tr>\n",
       "  </tbody>\n",
       "</table>\n",
       "</div>"
      ],
      "text/plain": [
       "      support                                    itemsets\n",
       "800  0.009049  (tropical fruit, whole milk, citrus fruit)"
      ]
     },
     "execution_count": 16,
     "metadata": {},
     "output_type": "execute_result"
    }
   ],
   "source": [
    "# check the 10th frequent itemset\n",
    "freq_set.loc[[800], ['support', 'itemsets']]"
   ]
  },
  {
   "cell_type": "markdown",
   "metadata": {},
   "source": [
    "### (Ass2) Check whether 'whole milk, tropical fruit, apple' is frequent"
   ]
  },
  {
   "cell_type": "code",
   "execution_count": 20,
   "metadata": {},
   "outputs": [
    {
     "name": "stdout",
     "output_type": "stream",
     "text": [
      "Done!\n"
     ]
    }
   ],
   "source": [
    "# define the MIN_SUPP\n",
    "MIN_SUPP = 0.009\n",
    "\n",
    "# apply the defined apriori algorithm\n",
    "freq_set = apriori(df, min_support=MIN_SUPP,use_colnames=True)\n",
    "\n",
    "print('Done!')"
   ]
  },
  {
   "cell_type": "code",
   "execution_count": 21,
   "metadata": {},
   "outputs": [
    {
     "name": "stdout",
     "output_type": "stream",
     "text": [
      "Not frequent!\n"
     ]
    }
   ],
   "source": [
    "check_set = ['whole milk','tropical fruit', 'apple']\n",
    "\n",
    "# Select the idx from the frequent set based on the given check_set\n",
    "itemset_idx = freq_set.index[freq_set['itemsets'] == frozenset(check_set)].tolist()\n",
    "if itemset_idx==[]:\n",
    "    print('Not frequent!') # given check_set does not exist in the frequent set\n",
    "else:\n",
    "    print('Found at location '+str(itemset_idx[0]))"
   ]
  },
  {
   "cell_type": "markdown",
   "metadata": {},
   "source": [
    "### (Ass2) how many frequent itemsets are there if we set the minimum support rate threshold to be 0.01?"
   ]
  },
  {
   "cell_type": "code",
   "execution_count": 26,
   "metadata": {},
   "outputs": [
    {
     "name": "stdout",
     "output_type": "stream",
     "text": [
      "Done!\n"
     ]
    }
   ],
   "source": [
    "# define the MIN_SUPP\n",
    "MIN_SUPP = 0.01\n",
    "\n",
    "# apply the defined apriori algorithm\n",
    "freq_set = apriori(df, min_support=MIN_SUPP,use_colnames=True)\n",
    "\n",
    "print('Done!')"
   ]
  },
  {
   "cell_type": "code",
   "execution_count": 27,
   "metadata": {},
   "outputs": [
    {
     "data": {
      "text/html": [
       "<div>\n",
       "<style scoped>\n",
       "    .dataframe tbody tr th:only-of-type {\n",
       "        vertical-align: middle;\n",
       "    }\n",
       "\n",
       "    .dataframe tbody tr th {\n",
       "        vertical-align: top;\n",
       "    }\n",
       "\n",
       "    .dataframe thead th {\n",
       "        text-align: right;\n",
       "    }\n",
       "</style>\n",
       "<table border=\"1\" class=\"dataframe\">\n",
       "  <thead>\n",
       "    <tr style=\"text-align: right;\">\n",
       "      <th></th>\n",
       "      <th>support</th>\n",
       "      <th>itemsets</th>\n",
       "    </tr>\n",
       "  </thead>\n",
       "  <tbody>\n",
       "    <tr>\n",
       "      <th>0</th>\n",
       "      <td>0.033452</td>\n",
       "      <td>(UHT-milk)</td>\n",
       "    </tr>\n",
       "    <tr>\n",
       "      <th>1</th>\n",
       "      <td>0.017692</td>\n",
       "      <td>(baking powder)</td>\n",
       "    </tr>\n",
       "    <tr>\n",
       "      <th>2</th>\n",
       "      <td>0.052466</td>\n",
       "      <td>(beef)</td>\n",
       "    </tr>\n",
       "    <tr>\n",
       "      <th>3</th>\n",
       "      <td>0.033249</td>\n",
       "      <td>(berries)</td>\n",
       "    </tr>\n",
       "    <tr>\n",
       "      <th>4</th>\n",
       "      <td>0.026029</td>\n",
       "      <td>(beverages)</td>\n",
       "    </tr>\n",
       "    <tr>\n",
       "      <th>...</th>\n",
       "      <td>...</td>\n",
       "      <td>...</td>\n",
       "    </tr>\n",
       "    <tr>\n",
       "      <th>328</th>\n",
       "      <td>0.011998</td>\n",
       "      <td>(tropical fruit, whole milk, root vegetables)</td>\n",
       "    </tr>\n",
       "    <tr>\n",
       "      <th>329</th>\n",
       "      <td>0.014540</td>\n",
       "      <td>(whole milk, root vegetables, yogurt)</td>\n",
       "    </tr>\n",
       "    <tr>\n",
       "      <th>330</th>\n",
       "      <td>0.010473</td>\n",
       "      <td>(soda, whole milk, yogurt)</td>\n",
       "    </tr>\n",
       "    <tr>\n",
       "      <th>331</th>\n",
       "      <td>0.015150</td>\n",
       "      <td>(tropical fruit, whole milk, yogurt)</td>\n",
       "    </tr>\n",
       "    <tr>\n",
       "      <th>332</th>\n",
       "      <td>0.010880</td>\n",
       "      <td>(yogurt, whole milk, whipped/sour cream)</td>\n",
       "    </tr>\n",
       "  </tbody>\n",
       "</table>\n",
       "<p>333 rows × 2 columns</p>\n",
       "</div>"
      ],
      "text/plain": [
       "      support                                       itemsets\n",
       "0    0.033452                                     (UHT-milk)\n",
       "1    0.017692                                (baking powder)\n",
       "2    0.052466                                         (beef)\n",
       "3    0.033249                                      (berries)\n",
       "4    0.026029                                    (beverages)\n",
       "..        ...                                            ...\n",
       "328  0.011998  (tropical fruit, whole milk, root vegetables)\n",
       "329  0.014540          (whole milk, root vegetables, yogurt)\n",
       "330  0.010473                     (soda, whole milk, yogurt)\n",
       "331  0.015150           (tropical fruit, whole milk, yogurt)\n",
       "332  0.010880       (yogurt, whole milk, whipped/sour cream)\n",
       "\n",
       "[333 rows x 2 columns]"
      ]
     },
     "execution_count": 27,
     "metadata": {},
     "output_type": "execute_result"
    }
   ],
   "source": [
    "# let's see our result\n",
    "freq_set"
   ]
  },
  {
   "cell_type": "markdown",
   "metadata": {},
   "source": [
    "Great! You can play with your own sets and see if they are frequent."
   ]
  },
  {
   "cell_type": "markdown",
   "metadata": {},
   "source": [
    "**Execrise**: after we find an itemset is frequent, how can we have its support?\n",
    "(hint: use the location of the frequent itemset.)"
   ]
  },
  {
   "cell_type": "markdown",
   "metadata": {},
   "source": [
    "## Section 4.1 Calcualte the confidence"
   ]
  },
  {
   "cell_type": "code",
   "execution_count": 24,
   "metadata": {},
   "outputs": [],
   "source": [
    "\"\"\"\n",
    "Return the support of the given itemset X\n",
    "\"\"\"\n",
    "def get_itemset_support(freq_set, X):\n",
    "    # Select the idx from the frequent set based on the given check_set\n",
    "    itemset_idx = freq_set.index[freq_set['itemsets'] == frozenset(X)].tolist()\n",
    "    if itemset_idx==[]:\n",
    "        return None # Request itemset X does not exist in the frequent itemset\n",
    "    else:\n",
    "        return freq_set.loc[itemset_idx[0],['support']] # Return the corresponding support\n",
    "        \n",
    "\"\"\"\n",
    "Print the confidence of the given itemset {X} -> {Y} \n",
    "\"\"\"\n",
    "def get_rule_confidence(freq_set, X, Y):\n",
    "   \n",
    "    itemset = X + Y # join itemset X and itemset Y \n",
    "    x_support = get_itemset_support(freq_set, X) # get support of X \n",
    "    joint_support = get_itemset_support(freq_set, itemset) # get support of X joint Y\n",
    "    \n",
    "    if joint_support is None or x_support is None: \n",
    "        return \"Make sure the X, Y and X+Y are in the frequent list.\"\n",
    "        \n",
    "    print(\"The confidence of rule {%s} -> {%s} is: %3f\"%(X, Y, joint_support/x_support))"
   ]
  },
  {
   "cell_type": "markdown",
   "metadata": {},
   "source": [
    "**Now, let's calculate the confidence of rule {X} -> {Y}**"
   ]
  },
  {
   "cell_type": "code",
   "execution_count": 16,
   "metadata": {},
   "outputs": [
    {
     "name": "stdout",
     "output_type": "stream",
     "text": [
      "The confidence of rule {['yogurt', 'whole milk']} -> {['other vegetables']} is: 0.397459\n"
     ]
    }
   ],
   "source": [
    "# Specify the content of X and Y\n",
    "X = ['yogurt', 'whole milk']\n",
    "Y = ['other vegetables']\n",
    "\n",
    "# Get the confidence\n",
    "get_rule_confidence(freq_set, X, Y)"
   ]
  },
  {
   "cell_type": "code",
   "execution_count": 17,
   "metadata": {},
   "outputs": [
    {
     "data": {
      "text/plain": [
       "'Make sure the X, Y and X+Y are in the frequent list.'"
      ]
     },
     "execution_count": 17,
     "metadata": {},
     "output_type": "execute_result"
    }
   ],
   "source": [
    "# Specify the content of X and Y\n",
    "X = ['queensland']\n",
    "Y = ['university']\n",
    "\n",
    "# Get the confidence\n",
    "get_rule_confidence(freq_set, X, Y)"
   ]
  },
  {
   "cell_type": "markdown",
   "metadata": {},
   "source": [
    "### (Ass2) if we set the minimum support rate to be 0.009 and the minimum confidence rate to be 0.2, then {bottled water}-> {whole milk} is a strong rule"
   ]
  },
  {
   "cell_type": "code",
   "execution_count": null,
   "metadata": {},
   "outputs": [],
   "source": [
    "# define the MIN_SUPP\n",
    "MIN_SUPP = 0.009\n",
    "\n",
    "# apply the defined apriori algorithm\n",
    "freq_set = apriori(df, min_support=MIN_SUPP,use_colnames=True)\n",
    "\n",
    "print('Done!')"
   ]
  },
  {
   "cell_type": "code",
   "execution_count": 22,
   "metadata": {},
   "outputs": [
    {
     "name": "stdout",
     "output_type": "stream",
     "text": [
      "Found at location 91\n"
     ]
    }
   ],
   "source": [
    "check_set = ['whole milk']\n",
    "\n",
    "# Select the idx from the frequent set based on the given check_set\n",
    "itemset_idx = freq_set.index[freq_set['itemsets'] == frozenset(check_set)].tolist()\n",
    "if itemset_idx==[]:\n",
    "    print('Not frequent!') # given check_set does not exist in the frequent set\n",
    "else:\n",
    "    print('Found at location '+str(itemset_idx[0]))"
   ]
  },
  {
   "cell_type": "code",
   "execution_count": 23,
   "metadata": {},
   "outputs": [
    {
     "name": "stdout",
     "output_type": "stream",
     "text": [
      "Found at location 6\n"
     ]
    }
   ],
   "source": [
    "check_set = ['bottled water']\n",
    "\n",
    "# Select the idx from the frequent set based on the given check_set\n",
    "itemset_idx = freq_set.index[freq_set['itemsets'] == frozenset(check_set)].tolist()\n",
    "if itemset_idx==[]:\n",
    "    print('Not frequent!') # given check_set does not exist in the frequent set\n",
    "else:\n",
    "    print('Found at location '+str(itemset_idx[0]))"
   ]
  },
  {
   "cell_type": "code",
   "execution_count": 25,
   "metadata": {},
   "outputs": [
    {
     "name": "stdout",
     "output_type": "stream",
     "text": [
      "The confidence of rule {['bottled water']} -> {['whole milk']} is: 0.310948\n"
     ]
    }
   ],
   "source": [
    "# Specify the content of X and Y\n",
    "X = ['bottled water']\n",
    "Y = ['whole milk']\n",
    "\n",
    "# Get the confidence\n",
    "get_rule_confidence(freq_set, X, Y)"
   ]
  },
  {
   "cell_type": "markdown",
   "metadata": {},
   "source": [
    "This is the end of the tutorial. You can play with your own rules now. "
   ]
  }
 ],
 "metadata": {
  "kernelspec": {
   "display_name": "Python 3",
   "language": "python",
   "name": "python3"
  },
  "language_info": {
   "codemirror_mode": {
    "name": "ipython",
    "version": 3
   },
   "file_extension": ".py",
   "mimetype": "text/x-python",
   "name": "python",
   "nbconvert_exporter": "python",
   "pygments_lexer": "ipython3",
   "version": "3.8.3"
  }
 },
 "nbformat": 4,
 "nbformat_minor": 4
}
